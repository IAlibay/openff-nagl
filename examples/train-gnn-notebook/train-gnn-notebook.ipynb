{
 "cells": [
  {
   "cell_type": "markdown",
   "id": "25fbe5ab",
   "metadata": {},
   "source": [
    "# Training a GCN with NAGL\n",
    "\n",
    "## Imports"
   ]
  },
  {
   "cell_type": "code",
   "execution_count": 1,
   "id": "893b5720",
   "metadata": {},
   "outputs": [
    {
     "name": "stderr",
     "output_type": "stream",
     "text": [
      "/home/joshmitchell/Documents/openff/nagl/.soap/examples/lib/python3.10/site-packages/tqdm/auto.py:22: TqdmWarning: IProgress not found. Please update jupyter and ipywidgets. See https://ipywidgets.readthedocs.io/en/stable/user_install.html\n",
      "  from .autonotebook import tqdm as notebook_tqdm\n"
     ]
    }
   ],
   "source": [
    "import os\n",
    "from pathlib import Path\n",
    "\n",
    "from pytorch_lightning import Trainer\n",
    "from pytorch_lightning.loggers import TensorBoardLogger\n",
    "from pytorch_lightning.callbacks import ModelCheckpoint, TQDMProgressBar\n",
    "\n",
    "from openff.toolkit import Molecule\n",
    "\n",
    "from openff.nagl import GNNModel\n",
    "from openff.nagl.features import atoms, bonds\n",
    "from openff.nagl.nn.dataset import DGLMoleculeLightningDataModule\n"
   ]
  },
  {
   "cell_type": "markdown",
   "id": "91824001",
   "metadata": {},
   "source": [
    "## Configuration"
   ]
  },
  {
   "cell_type": "code",
   "execution_count": 2,
   "id": "678ec5a2",
   "metadata": {},
   "outputs": [],
   "source": [
    "output_directory = Path('output') # The path to an output directory\n",
    "checkpoint_directory = output_directory / \"checkpoints\"\n",
    "checkpoint_file = checkpoint_directory / \"checkpoint\"\n",
    "\n",
    "n_epochs = 200 # Number of epochs\"\n",
    "\n",
    "n_gpus = 1 # Number of gpus\n",
    "\n",
    "partial_charge_method = \"am1\" # Method\n",
    "\n",
    "dataset_paths = [Path(\"alkanes.sqlite\")]\n"
   ]
  },
  {
   "cell_type": "markdown",
   "id": "6804facd",
   "metadata": {},
   "source": [
    "## Create the model"
   ]
  },
  {
   "cell_type": "code",
   "execution_count": 3,
   "id": "ada8176d",
   "metadata": {},
   "outputs": [],
   "source": [
    "atom_features = (\n",
    "    atoms.AtomicElement([\"C\", \"O\", \"H\", \"N\", \"S\", \"F\", \"Br\", \"Cl\", \"I\", \"P\"]),\n",
    "    atoms.AtomConnectivity(),\n",
    "    atoms.AtomAverageFormalCharge(),\n",
    "    atoms.AtomHybridization(),\n",
    "    atoms.AtomInRingOfSize(3),\n",
    "    atoms.AtomInRingOfSize(4),\n",
    "    atoms.AtomInRingOfSize(5),\n",
    "    atoms.AtomInRingOfSize(6),\n",
    ")\n",
    "\n",
    "bond_features = (\n",
    "    bonds.BondInRingOfSize(3),\n",
    "    bonds.BondInRingOfSize(4),\n",
    "    bonds.BondInRingOfSize(5),\n",
    "    bonds.BondInRingOfSize(6),\n",
    ")"
   ]
  },
  {
   "cell_type": "code",
   "execution_count": 5,
   "id": "8f675f1b",
   "metadata": {},
   "outputs": [
    {
     "ename": "AttributeError",
     "evalue": "cannot assign module before Module.__init__() call",
     "output_type": "error",
     "traceback": [
      "\u001b[0;31m---------------------------------------------------------------------------\u001b[0m",
      "\u001b[0;31mAttributeError\u001b[0m                            Traceback (most recent call last)",
      "Cell \u001b[0;32mIn[5], line 1\u001b[0m\n\u001b[0;32m----> 1\u001b[0m model \u001b[38;5;241m=\u001b[39m \u001b[43mGNNModel\u001b[49m\u001b[43m(\u001b[49m\n\u001b[1;32m      2\u001b[0m \u001b[43m    \u001b[49m\u001b[43mconvolution_architecture\u001b[49m\u001b[38;5;241;43m=\u001b[39;49m\u001b[38;5;124;43m\"\u001b[39;49m\u001b[38;5;124;43mSAGEConv\u001b[39;49m\u001b[38;5;124;43m\"\u001b[39;49m\u001b[43m,\u001b[49m\n\u001b[1;32m      3\u001b[0m \u001b[43m    \u001b[49m\u001b[43mn_convolution_hidden_features\u001b[49m\u001b[38;5;241;43m=\u001b[39;49m\u001b[38;5;241;43m128\u001b[39;49m\u001b[43m,\u001b[49m\n\u001b[1;32m      4\u001b[0m \u001b[43m    \u001b[49m\u001b[43mn_convolution_layers\u001b[49m\u001b[38;5;241;43m=\u001b[39;49m\u001b[38;5;241;43m3\u001b[39;49m\u001b[43m,\u001b[49m\n\u001b[1;32m      5\u001b[0m \u001b[43m    \u001b[49m\u001b[43mn_readout_hidden_features\u001b[49m\u001b[38;5;241;43m=\u001b[39;49m\u001b[38;5;241;43m128\u001b[39;49m\u001b[43m,\u001b[49m\n\u001b[1;32m      6\u001b[0m \u001b[43m    \u001b[49m\u001b[43mn_readout_layers\u001b[49m\u001b[38;5;241;43m=\u001b[39;49m\u001b[38;5;241;43m4\u001b[39;49m\u001b[43m,\u001b[49m\n\u001b[1;32m      7\u001b[0m \u001b[43m    \u001b[49m\u001b[43mactivation_function\u001b[49m\u001b[38;5;241;43m=\u001b[39;49m\u001b[38;5;124;43m\"\u001b[39;49m\u001b[38;5;124;43mReLU\u001b[39;49m\u001b[38;5;124;43m\"\u001b[39;49m\u001b[43m,\u001b[49m\n\u001b[1;32m      8\u001b[0m \u001b[43m    \u001b[49m\u001b[43mpostprocess_layer\u001b[49m\u001b[38;5;241;43m=\u001b[39;49m\u001b[38;5;124;43m\"\u001b[39;49m\u001b[38;5;124;43mcompute_partial_charges\u001b[39;49m\u001b[38;5;124;43m\"\u001b[39;49m\u001b[43m,\u001b[49m\n\u001b[1;32m      9\u001b[0m \u001b[43m    \u001b[49m\u001b[43mreadout_name\u001b[49m\u001b[38;5;241;43m=\u001b[39;49m\u001b[38;5;124;43mf\u001b[39;49m\u001b[38;5;124;43m\"\u001b[39;49m\u001b[38;5;132;43;01m{\u001b[39;49;00m\u001b[43mpartial_charge_method\u001b[49m\u001b[38;5;132;43;01m}\u001b[39;49;00m\u001b[38;5;124;43m-charges\u001b[39;49m\u001b[38;5;124;43m\"\u001b[39;49m\u001b[43m,\u001b[49m\n\u001b[1;32m     10\u001b[0m \u001b[43m    \u001b[49m\u001b[43mlearning_rate\u001b[49m\u001b[38;5;241;43m=\u001b[39;49m\u001b[38;5;241;43m0.001\u001b[39;49m\u001b[43m,\u001b[49m\n\u001b[1;32m     11\u001b[0m \u001b[43m    \u001b[49m\u001b[43matom_features\u001b[49m\u001b[38;5;241;43m=\u001b[39;49m\u001b[43matom_features\u001b[49m\u001b[43m,\u001b[49m\n\u001b[1;32m     12\u001b[0m \u001b[43m    \u001b[49m\u001b[43mbond_features\u001b[49m\u001b[38;5;241;43m=\u001b[39;49m\u001b[43mbond_features\u001b[49m\u001b[43m,\u001b[49m\n\u001b[1;32m     13\u001b[0m \u001b[43m)\u001b[49m\n",
      "File \u001b[0;32m~/Documents/openff/nagl/openff/nagl/nn/_models.py:176\u001b[0m, in \u001b[0;36mGNNModel.__init__\u001b[0;34m(self, convolution_architecture, n_convolution_hidden_features, n_convolution_layers, n_readout_hidden_features, n_readout_layers, activation_function, postprocess_layer, readout_name, learning_rate, atom_features, bond_features, loss_function)\u001b[0m\n\u001b[1;32m    165\u001b[0m readout_module \u001b[38;5;241m=\u001b[39m ReadoutModule(\n\u001b[1;32m    166\u001b[0m     pooling_layer\u001b[38;5;241m=\u001b[39mPoolAtomFeatures(),\n\u001b[1;32m    167\u001b[0m     readout_layers\u001b[38;5;241m=\u001b[39mSequentialLayers\u001b[38;5;241m.\u001b[39mwith_layers(\n\u001b[0;32m   (...)\u001b[0m\n\u001b[1;32m    172\u001b[0m     postprocess_layer\u001b[38;5;241m=\u001b[39mpostprocess_layer(),\n\u001b[1;32m    173\u001b[0m )\n\u001b[1;32m    175\u001b[0m readout_modules \u001b[38;5;241m=\u001b[39m {readout_name: readout_module}\n\u001b[0;32m--> 176\u001b[0m \u001b[38;5;28;43mself\u001b[39;49m\u001b[38;5;241;43m.\u001b[39;49m\u001b[43mconvolution_module\u001b[49m \u001b[38;5;241m=\u001b[39m convolution_module\n\u001b[1;32m    177\u001b[0m \u001b[38;5;28mself\u001b[39m\u001b[38;5;241m.\u001b[39mreadout_modules \u001b[38;5;241m=\u001b[39m torch\u001b[38;5;241m.\u001b[39mnn\u001b[38;5;241m.\u001b[39mModuleDict(readout_modules)\n\u001b[1;32m    178\u001b[0m \u001b[38;5;28mself\u001b[39m\u001b[38;5;241m.\u001b[39mlearning_rate \u001b[38;5;241m=\u001b[39m learning_rate\n",
      "File \u001b[0;32m~/Documents/openff/nagl/.soap/examples/lib/python3.10/site-packages/torch/nn/modules/module.py:1298\u001b[0m, in \u001b[0;36mModule.__setattr__\u001b[0;34m(self, name, value)\u001b[0m\n\u001b[1;32m   1296\u001b[0m \u001b[38;5;28;01mif\u001b[39;00m \u001b[38;5;28misinstance\u001b[39m(value, Module):\n\u001b[1;32m   1297\u001b[0m     \u001b[38;5;28;01mif\u001b[39;00m modules \u001b[38;5;129;01mis\u001b[39;00m \u001b[38;5;28;01mNone\u001b[39;00m:\n\u001b[0;32m-> 1298\u001b[0m         \u001b[38;5;28;01mraise\u001b[39;00m \u001b[38;5;167;01mAttributeError\u001b[39;00m(\n\u001b[1;32m   1299\u001b[0m             \u001b[38;5;124m\"\u001b[39m\u001b[38;5;124mcannot assign module before Module.__init__() call\u001b[39m\u001b[38;5;124m\"\u001b[39m)\n\u001b[1;32m   1300\u001b[0m     remove_from(\u001b[38;5;28mself\u001b[39m\u001b[38;5;241m.\u001b[39m\u001b[38;5;18m__dict__\u001b[39m, \u001b[38;5;28mself\u001b[39m\u001b[38;5;241m.\u001b[39m_parameters, \u001b[38;5;28mself\u001b[39m\u001b[38;5;241m.\u001b[39m_buffers, \u001b[38;5;28mself\u001b[39m\u001b[38;5;241m.\u001b[39m_non_persistent_buffers_set)\n\u001b[1;32m   1301\u001b[0m     modules[name] \u001b[38;5;241m=\u001b[39m value\n",
      "\u001b[0;31mAttributeError\u001b[0m: cannot assign module before Module.__init__() call"
     ]
    }
   ],
   "source": [
    "\n",
    "model = GNNModel(\n",
    "    convolution_architecture=\"SAGEConv\",\n",
    "    n_convolution_hidden_features=128,\n",
    "    n_convolution_layers=3,\n",
    "    n_readout_hidden_features=128,\n",
    "    n_readout_layers=4,\n",
    "    activation_function=\"ReLU\",\n",
    "    postprocess_layer=\"compute_partial_charges\",\n",
    "    readout_name=f\"{partial_charge_method}-charges\",\n",
    "    learning_rate=0.001,\n",
    "    atom_features=atom_features,\n",
    "    bond_features=bond_features,\n",
    ")"
   ]
  },
  {
   "cell_type": "markdown",
   "id": "fe8c0133",
   "metadata": {},
   "source": [
    "## Specify the training, validation and test data"
   ]
  },
  {
   "cell_type": "code",
   "execution_count": null,
   "id": "2ed8818a",
   "metadata": {},
   "outputs": [],
   "source": [
    "data_module = DGLMoleculeLightningDataModule(\n",
    "    atom_features=atom_features,\n",
    "    bond_features=bond_features,\n",
    "    partial_charge_method=partial_charge_method,\n",
    "    training_set_paths=dataset_paths,\n",
    "    training_batch_size=1000,\n",
    "    validation_set_paths=dataset_paths,\n",
    "    validation_batch_size=1000,\n",
    "    test_set_paths=dataset_paths,\n",
    "    test_batch_size=1000,\n",
    ")"
   ]
  },
  {
   "cell_type": "markdown",
   "id": "37e228a5",
   "metadata": {},
   "source": [
    "## Train the model"
   ]
  },
  {
   "cell_type": "code",
   "execution_count": null,
   "id": "afe8f0fe",
   "metadata": {},
   "outputs": [],
   "source": [
    "os.makedirs(str(output_directory), exist_ok=True)\n",
    "os.makedirs(str(checkpoint_directory), exist_ok=True)\n",
    "\n",
    "logger = TensorBoardLogger(output_directory)\n",
    "\n",
    "callbacks = [TQDMProgressBar(), ModelCheckpoint(save_top_k=1, monitor=\"val_loss\")]\n",
    "\n",
    "trainer = pl.Trainer(\n",
    "    gpus=n_gpus,\n",
    "    min_epochs=n_epochs,\n",
    "    max_epochs=n_epochs,\n",
    "    logger=logger,\n",
    "    callbacks=callbacks,\n",
    ")\n",
    "\n",
    "trainer.fit(\n",
    "    model, \n",
    "    datamodule=data_module, \n",
    "    ckpt_path=checkpoint_file,\n",
    ")\n",
    "\n",
    "trainer.test(model, data_module)"
   ]
  },
  {
   "cell_type": "markdown",
   "id": "0fb4de68",
   "metadata": {},
   "source": [
    "## Results!"
   ]
  },
  {
   "cell_type": "code",
   "execution_count": null,
   "id": "8765ce36",
   "metadata": {},
   "outputs": [],
   "source": [
    "print(\"--- Best model ---\")\n",
    "print(callbacks[0].best_model_path)\n",
    "print(callbacks[0].best_model_score)\n",
    "metrics_file = pathlib.Path(output_directory) / trainer_hash / \"metrics.pkl\"\n",
    "with open(str(metrics_file), \"wb\") as f:\n",
    "    metrics = (trainer._trainer.callback_metrics, trainer._trainer.logged_metrics)\n",
    "    pickle.dump(metrics, f)\n",
    "\n",
    "print(f\"Wrote metrics to {str(metrics_file)}\")"
   ]
  },
  {
   "cell_type": "code",
   "execution_count": null,
   "id": "87609fdd",
   "metadata": {},
   "outputs": [],
   "source": [
    "model.compute_property(Molecule.from_smiles(\"CC(C)(C)C\"))"
   ]
  }
 ],
 "metadata": {
  "kernelspec": {
   "display_name": "Python 3 (ipykernel)",
   "language": "python",
   "name": "python3"
  },
  "language_info": {
   "codemirror_mode": {
    "name": "ipython",
    "version": 3
   },
   "file_extension": ".py",
   "mimetype": "text/x-python",
   "name": "python",
   "nbconvert_exporter": "python",
   "pygments_lexer": "ipython3",
   "version": "3.10.8"
  }
 },
 "nbformat": 4,
 "nbformat_minor": 5
}
